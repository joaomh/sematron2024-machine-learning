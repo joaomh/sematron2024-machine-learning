{
  "nbformat": 4,
  "nbformat_minor": 0,
  "metadata": {
    "colab": {
      "provenance": []
    },
    "kernelspec": {
      "name": "python3",
      "display_name": "Python 3"
    },
    "language_info": {
      "name": "python"
    }
  },
  "cells": [
    {
      "cell_type": "code",
      "execution_count": 1,
      "metadata": {
        "id": "al_XLtcbJ2l0"
      },
      "outputs": [],
      "source": [
        "import pandas as pd\n",
        "import numpy as np\n",
        "import seaborn as sns\n",
        "import matplotlib.pyplot as plt\n",
        "plt.style.use('fivethirtyeight')\n",
        "sns.set_style('whitegrid')\n",
        "\n",
        "import plotly.express as px\n",
        "import plotly.graph_objects as go\n",
        "from plotly.subplots import make_subplots\n",
        "from sklearn.preprocessing import StandardScaler, LabelEncoder, OneHotEncoder\n",
        "from scipy.stats import uniform\n",
        "from scipy import interp\n",
        "from sklearn.cluster import KMeans\n",
        "from sklearn.metrics import silhouette_samples, silhouette_score\n",
        "import warnings\n",
        "warnings.filterwarnings(\"ignore\")\n",
        "import plotly.io as pio\n",
        "pio.renderers\n",
        "pio.renderers.default = 'colab'"
      ]
    },
    {
      "cell_type": "code",
      "source": [
        "# read the dataset\n",
        "df = pd.read_csv('german_credit_data.csv')"
      ],
      "metadata": {
        "id": "LmQ7iEQY5jgU"
      },
      "execution_count": 2,
      "outputs": []
    },
    {
      "cell_type": "code",
      "source": [
        "one_hot = {\n",
        "    \"Sex\": \"sex\",\n",
        "    \"Housing\": \"hous\",\n",
        "    \"Purpose\": \"purp\"\n",
        "}\n",
        "ordinal_encoding = {\n",
        "    \"Saving accounts\": {\n",
        "        None: 0,\n",
        "        \"little\": 1,\n",
        "        \"moderate\": 2,\n",
        "        \"quite rich\": 3,\n",
        "        \"rich\": 4,\n",
        "    },\n",
        "    \"Checking account\": {\n",
        "        None: 1,\n",
        "        \"little\": 2,\n",
        "        \"moderate\": 3,\n",
        "        \"rich\": 4,\n",
        "    },\n",
        "    \"Risk\": {\n",
        "        \"bad\": 1,\n",
        "        \"good\": 0,\n",
        "    }\n",
        "}\n",
        "def one_hot_enconding(df, col_prefix: dict):\n",
        "    df = df.copy()\n",
        "    for col, prefix in col_prefix.items():\n",
        "        df = pd.get_dummies(data=df, prefix=prefix, columns=[col,],dtype=int)\n",
        "    return df\n",
        "def encode_ordinal(df, custom_ordinals: dict):\n",
        "    df = df.copy()\n",
        "    for col, map_dict in custom_ordinals.items():\n",
        "        df[col] = df[col].replace(map_dict)\n",
        "    return df"
      ],
      "metadata": {
        "id": "dr6TTEOMKNZ5"
      },
      "execution_count": 3,
      "outputs": []
    },
    {
      "cell_type": "code",
      "source": [
        "df_encode = df.copy()\n",
        "df_encode = one_hot_enconding(df_encode, one_hot)\n",
        "df_encode = encode_ordinal(df_encode, ordinal_encoding)\n",
        "df_encode"
      ],
      "metadata": {
        "id": "16EwexqQKThA"
      },
      "execution_count": null,
      "outputs": []
    },
    {
      "cell_type": "code",
      "source": [
        "model_cols = ['Age', 'Job', 'Saving accounts', 'Checking account',\n",
        "       'Credit amount', 'Duration', 'sex_female', 'sex_male',\n",
        "       'hous_free', 'hous_own', 'hous_rent', 'purp_business', 'purp_car',\n",
        "       'purp_domestic appliances', 'purp_education',\n",
        "       'purp_furniture/equipment', 'purp_radio/TV', 'purp_repairs',\n",
        "       'purp_vacation/others']\n",
        "df_new = df_encode[model_cols]"
      ],
      "metadata": {
        "id": "h-TRLjYFLKLv"
      },
      "execution_count": 5,
      "outputs": []
    },
    {
      "cell_type": "code",
      "source": [
        "num_df = df_new[['Age', 'Duration', 'Credit amount']]\n",
        "num_df = np.log(num_df)"
      ],
      "metadata": {
        "id": "jp8hS2OGMVNK"
      },
      "execution_count": 6,
      "outputs": []
    },
    {
      "cell_type": "code",
      "source": [
        "fig, ax = plt.subplots(1,3,figsize=(20,5))\n",
        "plt.suptitle('DISTRIBUTION PLOTS AFTER LOG TRANSFORMATION')\n",
        "sns.distplot(num_df['Credit amount'], bins=40, ax=ax[0]);\n",
        "sns.distplot(num_df['Duration'], bins=40, ax=ax[1], color='salmon');\n",
        "sns.distplot(num_df['Age'], bins=40, ax=ax[2], color='darkviolet');"
      ],
      "metadata": {
        "id": "u2N7X1YcMZUd"
      },
      "execution_count": null,
      "outputs": []
    },
    {
      "cell_type": "code",
      "source": [
        "scaler = StandardScaler()\n",
        "num_df_scaled = scaler.fit_transform(num_df)"
      ],
      "metadata": {
        "id": "tWYwdwodKi8b"
      },
      "execution_count": 8,
      "outputs": []
    },
    {
      "cell_type": "code",
      "source": [
        "inertias = []\n",
        "\n",
        "for i in range(2,16):\n",
        "    kmeans = KMeans(n_clusters=i, random_state=0).fit(num_df_scaled)\n",
        "    inertias.append(kmeans.inertia_)\n",
        "\n",
        "plt.figure(figsize=(10,5))\n",
        "plt.title('ELBOW METHOD')\n",
        "plt.plot(np.arange(2,16),inertias, marker='o', lw=2, color='steelblue');"
      ],
      "metadata": {
        "id": "s42APx4HKqI4"
      },
      "execution_count": null,
      "outputs": []
    },
    {
      "cell_type": "code",
      "source": [
        "results = []\n",
        "\n",
        "for i in range(3, 20):\n",
        "      kmeans = KMeans(n_clusters=i, random_state=42)\n",
        "      c_labels = kmeans.fit_predict(num_df_scaled)\n",
        "      sil_ave = silhouette_score(num_df_scaled, c_labels)\n",
        "      results.append([i, sil_ave])\n",
        "\n",
        "res_df = pd.DataFrame(results, columns=['num_cluster', 'sil_score'])\n",
        "\n",
        "# Calculando a média do Silhouette Score para cada número de clusters\n",
        "mean_silhouette_scores = res_df.groupby('num_cluster')['sil_score'].mean().reset_index()\n",
        "\n",
        "# Plotando o gráfico de linha\n",
        "plt.figure(figsize=(10, 6))\n",
        "plt.plot(mean_silhouette_scores['num_cluster'], mean_silhouette_scores['sil_score'], marker='o')\n",
        "plt.title('Silhouette Score for Different Numbers of Clusters')\n",
        "plt.xlabel('Number of Clusters')\n",
        "plt.ylabel('Average Silhouette Score')\n",
        "plt.grid(True)\n",
        "plt.tight_layout()\n",
        "plt.show()"
      ],
      "metadata": {
        "id": "sJhYvwx9Ml7f"
      },
      "execution_count": null,
      "outputs": []
    },
    {
      "cell_type": "code",
      "source": [
        "km = KMeans(n_clusters=3, random_state=0)\n",
        "clusters = km.fit_predict(num_df_scaled)"
      ],
      "metadata": {
        "id": "QSPdSMG3K0wO"
      },
      "execution_count": 11,
      "outputs": []
    },
    {
      "cell_type": "code",
      "source": [
        "from mpl_toolkits.mplot3d import Axes3D\n",
        "fig = plt.figure(figsize=(10,6))\n",
        "ax = fig.add_subplot(111, projection='3d')\n",
        "\n",
        "for i in range(3):\n",
        "    ax.scatter(num_df_scaled[clusters ==i,0], num_df_scaled[clusters ==i,1], num_df_scaled[clusters ==i,2])"
      ],
      "metadata": {
        "id": "JjXMsbbJK2Ra"
      },
      "execution_count": null,
      "outputs": []
    },
    {
      "cell_type": "code",
      "source": [
        "df_clustered = df_encode[['Risk','Age', 'Job', 'Saving accounts', 'Checking account',\n",
        "       'Credit amount', 'Duration', 'sex_female', 'sex_male',\n",
        "       'hous_free', 'hous_own', 'hous_rent', 'purp_business', 'purp_car',\n",
        "       'purp_domestic appliances', 'purp_education',\n",
        "       'purp_furniture/equipment', 'purp_radio/TV', 'purp_repairs',\n",
        "       'purp_vacation/others']]\n",
        "df_clustered['cluster'] = clusters\n",
        "df_clustered.groupby('cluster').mean()"
      ],
      "metadata": {
        "id": "vBWnFMLkNTty"
      },
      "execution_count": null,
      "outputs": []
    }
  ]
}